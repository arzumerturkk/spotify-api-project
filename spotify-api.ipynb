{
 "cells": [
  {
   "cell_type": "code",
   "execution_count": 1,
   "metadata": {},
   "outputs": [],
   "source": [
    "import requests\n",
    "from config import CLIENT_SECRET, CLIENT_ID\n",
    "import base64\n",
    "from requests import post , get\n",
    "import json\n",
    "from IPython.display import display"
   ]
  },
  {
   "cell_type": "code",
   "execution_count": 2,
   "metadata": {},
   "outputs": [],
   "source": [
    "def get_token():\n",
    "    auth_string = CLIENT_ID + \":\" + CLIENT_SECRET\n",
    "    auth_bytes = auth_string.encode(\"utf-8\")\n",
    "    auth_base64 = str(base64.b64encode(auth_bytes), \"utf-8\")\n",
    "\n",
    "    url = \"https://accounts.spotify.com/api/token\"\n",
    "\n",
    "    headers = {\n",
    "         \"Authorization\": \"Basic \" + auth_base64,\n",
    "         \"Content-Type\" : \"application/x-www-form-urlencoded\"\n",
    "    }\n",
    "\n",
    "    data = {\"grant_type\": \"client_credentials\"}\n",
    "    result = post(url, headers=headers, data=data)\n",
    "    json_result = json.loads(result.content.decode(\"utf-8\"))\n",
    "    token = json_result[\"access_token\"]\n",
    "    return token\n"
   ]
  },
  {
   "cell_type": "code",
   "execution_count": 3,
   "metadata": {},
   "outputs": [
    {
     "name": "stdout",
     "output_type": "stream",
     "text": [
      "BQDzpbfboCblfeNDKyCjbp_C0jZU6Rck0xLpX2JvmSoYRYhJJ3BBx9Whh0qzBX2GpfPJafAo2Vrs5j_B6ACIbtKDWlnrtXGuO_cLzcrNYg4_CnsiCrs\n"
     ]
    }
   ],
   "source": [
    "token = get_token()\n",
    "print(token)"
   ]
  },
  {
   "cell_type": "code",
   "execution_count": 4,
   "metadata": {},
   "outputs": [],
   "source": [
    "def get_auth_header(token):\n",
    "    return {'Authorization': 'Bearer ' + token}"
   ]
  },
  {
   "cell_type": "code",
   "execution_count": 6,
   "metadata": {},
   "outputs": [
    {
     "name": "stdout",
     "output_type": "stream",
     "text": [
      "{'href': 'https://api.spotify.com/v1/users/arzumerturkk/playlists?offset=0&limit=50', 'items': [{'collaborative': False, 'description': 'Geçmişten gelen müzikli zaman kapsülünün mührü açıldı!', 'external_urls': {'spotify': 'https://open.spotify.com/playlist/7K95g0wPc0Bgv8Z1qRDFj0'}, 'href': 'https://api.spotify.com/v1/playlists/7K95g0wPc0Bgv8Z1qRDFj0', 'id': '7K95g0wPc0Bgv8Z1qRDFj0', 'images': [{'height': None, 'url': 'https://image-cdn-fa.spotifycdn.com/image/ab67706c0000bebbd78674c95ac4b8159633fff5', 'width': None}], 'name': '2023 Şişede Saklı Listem', 'owner': {'display_name': 'arzumerturkk', 'external_urls': {'spotify': 'https://open.spotify.com/user/arzumerturkk'}, 'href': 'https://api.spotify.com/v1/users/arzumerturkk', 'id': 'arzumerturkk', 'type': 'user', 'uri': 'spotify:user:arzumerturkk'}, 'primary_color': None, 'public': True, 'snapshot_id': 'NCw4MzgzYjU5YjRkNDk0ZjZhNmU4MmMxYjljNmQxMDIzNGEwMTEyNzYx', 'tracks': {'href': 'https://api.spotify.com/v1/playlists/7K95g0wPc0Bgv8Z1qRDFj0/tracks', 'total': 3}, 'type': 'playlist', 'uri': 'spotify:playlist:7K95g0wPc0Bgv8Z1qRDFj0'}, {'collaborative': False, 'description': '', 'external_urls': {'spotify': 'https://open.spotify.com/playlist/0YyiSXuuUzH3edZDrIHKzB'}, 'href': 'https://api.spotify.com/v1/playlists/0YyiSXuuUzH3edZDrIHKzB', 'id': '0YyiSXuuUzH3edZDrIHKzB', 'images': [{'height': 640, 'url': 'https://mosaic.scdn.co/640/ab67616d0000b2732557f5ed1ca07d5111d49b93ab67616d0000b2732e9b39ce0d66cbcf4b4c673aab67616d0000b273722333cdcf2ac72f586d8284ab67616d0000b273c5a897378c8caf5cd11935a6', 'width': 640}, {'height': 300, 'url': 'https://mosaic.scdn.co/300/ab67616d0000b2732557f5ed1ca07d5111d49b93ab67616d0000b2732e9b39ce0d66cbcf4b4c673aab67616d0000b273722333cdcf2ac72f586d8284ab67616d0000b273c5a897378c8caf5cd11935a6', 'width': 300}, {'height': 60, 'url': 'https://mosaic.scdn.co/60/ab67616d0000b2732557f5ed1ca07d5111d49b93ab67616d0000b2732e9b39ce0d66cbcf4b4c673aab67616d0000b273722333cdcf2ac72f586d8284ab67616d0000b273c5a897378c8caf5cd11935a6', 'width': 60}], 'name': 'chill', 'owner': {'display_name': 'arzumerturkk', 'external_urls': {'spotify': 'https://open.spotify.com/user/arzumerturkk'}, 'href': 'https://api.spotify.com/v1/users/arzumerturkk', 'id': 'arzumerturkk', 'type': 'user', 'uri': 'spotify:user:arzumerturkk'}, 'primary_color': None, 'public': True, 'snapshot_id': 'NDUsZDBmMWFkOTc4NDdkNGM5MjdhOGNjMTU5YTBkY2MwNTc4NTdiZmYyNQ==', 'tracks': {'href': 'https://api.spotify.com/v1/playlists/0YyiSXuuUzH3edZDrIHKzB/tracks', 'total': 41}, 'type': 'playlist', 'uri': 'spotify:playlist:0YyiSXuuUzH3edZDrIHKzB'}, {'collaborative': False, 'description': '', 'external_urls': {'spotify': 'https://open.spotify.com/playlist/3faPrXWCGVbNKGnJTfTNnG'}, 'href': 'https://api.spotify.com/v1/playlists/3faPrXWCGVbNKGnJTfTNnG', 'id': '3faPrXWCGVbNKGnJTfTNnG', 'images': [{'height': 640, 'url': 'https://mosaic.scdn.co/640/ab67616d0000b27306e00756085191abc01e4cf0ab67616d0000b273ace3e7aae0b7c78bbe1c4f35ab67616d0000b273bde8dfd1922129f3d9e3732fab67616d0000b273e464904cc3fed2b40fc55120', 'width': 640}, {'height': 300, 'url': 'https://mosaic.scdn.co/300/ab67616d0000b27306e00756085191abc01e4cf0ab67616d0000b273ace3e7aae0b7c78bbe1c4f35ab67616d0000b273bde8dfd1922129f3d9e3732fab67616d0000b273e464904cc3fed2b40fc55120', 'width': 300}, {'height': 60, 'url': 'https://mosaic.scdn.co/60/ab67616d0000b27306e00756085191abc01e4cf0ab67616d0000b273ace3e7aae0b7c78bbe1c4f35ab67616d0000b273bde8dfd1922129f3d9e3732fab67616d0000b273e464904cc3fed2b40fc55120', 'width': 60}], 'name': 'STY', 'owner': {'display_name': 'Umut K.', 'external_urls': {'spotify': 'https://open.spotify.com/user/1tdpxgvrgsc8ja1ewemo1vwhj'}, 'href': 'https://api.spotify.com/v1/users/1tdpxgvrgsc8ja1ewemo1vwhj', 'id': '1tdpxgvrgsc8ja1ewemo1vwhj', 'type': 'user', 'uri': 'spotify:user:1tdpxgvrgsc8ja1ewemo1vwhj'}, 'primary_color': None, 'public': True, 'snapshot_id': 'NTMsNWY1YWY4NWFhNDczOTc1YmVhYzMwYTRhYmJkOTM5MjNmZTFkNmMzMg==', 'tracks': {'href': 'https://api.spotify.com/v1/playlists/3faPrXWCGVbNKGnJTfTNnG/tracks', 'total': 43}, 'type': 'playlist', 'uri': 'spotify:playlist:3faPrXWCGVbNKGnJTfTNnG'}, {'collaborative': False, 'description': '', 'external_urls': {'spotify': 'https://open.spotify.com/playlist/5KoWCjodAbEVxZrrQ1S7qd'}, 'href': 'https://api.spotify.com/v1/playlists/5KoWCjodAbEVxZrrQ1S7qd', 'id': '5KoWCjodAbEVxZrrQ1S7qd', 'images': [{'height': None, 'url': 'https://image-cdn-ak.spotifycdn.com/image/ab67706c0000bebb79dfe8ab4e6a6f3cf2dd4a7f', 'width': None}], 'name': 'karışık kaset', 'owner': {'display_name': 'elif taştekne', 'external_urls': {'spotify': 'https://open.spotify.com/user/pirensess'}, 'href': 'https://api.spotify.com/v1/users/pirensess', 'id': 'pirensess', 'type': 'user', 'uri': 'spotify:user:pirensess'}, 'primary_color': None, 'public': True, 'snapshot_id': 'MzMzLGQ0N2FjOTk2NmIxN2EyNTQyOTZhNDYzNDE5OTA3YWJlNWM3ZjgxNTQ=', 'tracks': {'href': 'https://api.spotify.com/v1/playlists/5KoWCjodAbEVxZrrQ1S7qd/tracks', 'total': 234}, 'type': 'playlist', 'uri': 'spotify:playlist:5KoWCjodAbEVxZrrQ1S7qd'}], 'limit': 50, 'next': None, 'offset': 0, 'previous': None, 'total': 4}\n"
     ]
    }
   ],
   "source": [
    "def get_user_playlists(token, user_id, limit=50):\n",
    "    url = f\"https://api.spotify.com/v1/users/{user_id}/playlists\"\n",
    "    headers = get_auth_header(token)\n",
    "    params = {'limit': limit}\n",
    "\n",
    "    response = requests.get(url, headers=headers, params=params)\n",
    "\n",
    "    if response.status_code == 200:\n",
    "        playlists_data = response.json()\n",
    "        return playlists_data\n",
    "    else:\n",
    "        print(f\"Hata Kodu: {response.status_code}, Hata Mesajı: {response.text}\")\n",
    "        return None\n",
    "\n",
    "\n",
    "user_id = 'arzumerturkk'\n",
    "\n",
    "playlists_data = get_user_playlists(token, user_id)\n",
    "\n",
    "if playlists_data:\n",
    "    print(playlists_data)"
   ]
  },
  {
   "cell_type": "code",
   "execution_count": null,
   "metadata": {},
   "outputs": [],
   "source": []
  }
 ],
 "metadata": {
  "kernelspec": {
   "display_name": "Python 3",
   "language": "python",
   "name": "python3"
  },
  "language_info": {
   "codemirror_mode": {
    "name": "ipython",
    "version": 3
   },
   "file_extension": ".py",
   "mimetype": "text/x-python",
   "name": "python",
   "nbconvert_exporter": "python",
   "pygments_lexer": "ipython3",
   "version": "3.11.4"
  }
 },
 "nbformat": 4,
 "nbformat_minor": 2
}
